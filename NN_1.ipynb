{
 "cells": [
  {
   "cell_type": "code",
   "execution_count": 1,
   "metadata": {
    "collapsed": true,
    "jupyter": {
     "outputs_hidden": true
    }
   },
   "outputs": [],
   "source": [
    "# Neural Network with: \n",
    "    #Load/save Function for who, wih\n",
    "    #backquery + vis\n",
    "    #rotate train set "
   ]
  },
  {
   "cell_type": "code",
   "execution_count": 1,
   "metadata": {},
   "outputs": [],
   "source": [
    "#import numpy\n",
    "import numpy\n",
    "#import for sigmoid\n",
    "import scipy.special\n",
    "#import lib for plotting\n",
    "import matplotlib.pyplot\n",
    "#import ensure the plots are inside this notebokk, not an external window\n",
    "%matplotlib inline\n",
    "# scipy.ndimage for rotating image arrays\n",
    "import scipy.ndimage\n",
    "import time"
   ]
  },
  {
   "cell_type": "code",
   "execution_count": 2,
   "metadata": {},
   "outputs": [],
   "source": [
    "\n",
    "\n",
    "# neural network class\n",
    "class neuralNetwork:\n",
    "\n",
    "    # initialise the neural network\n",
    "    def __init__(self, inputnodes, hiddennodes, outputnodes, learningrate):\n",
    "        # set number of nodes in each input-, hidden-, output layer\n",
    "        self.inodes = inputnodes\n",
    "        self.hnodes = hiddennodes\n",
    "        self.onodes = outputnodes\n",
    "        \n",
    "        #link weight matrices w_input_hidden-> wih; w_hidden_output -> who\n",
    "        self.wih = numpy.random.normal(0.0, pow(self.hnodes, -0.5),(self.hnodes,self.inodes))\n",
    "        self.who = numpy.random.normal(0.0, pow(self.onodes, -0.5),(self.onodes,self.hnodes))\n",
    "\n",
    "        #activation function is the sigmoid function\n",
    "        self.activation_function = lambda x: scipy.special.expit(x)\n",
    "        #backquery function of sigmoid\n",
    "        self.inverse_activation_function = lambda x: scipy.special.logit(x)\n",
    "    \n",
    "        #learning rate\n",
    "        self.lr = learningrate\n",
    "        pass\n",
    "    \n",
    "    \n",
    "    # train the neural network\n",
    "    def train (self, inputs_list, targets_list):\n",
    "        # convert inputs list to 2d array\n",
    "        inputs = numpy.array(inputs_list, ndmin=2).T\n",
    "        targets = numpy.array(targets_list, ndmin=2).T\n",
    "        \n",
    "        # wih*input= X_hidden\n",
    "        hidden_inputs = numpy.dot(self.wih, inputs)\n",
    "        #calculate the signals emerging from hidden layer\n",
    "        hidden_outputs = self.activation_function(hidden_inputs)\n",
    "        #who*hidden = Final\n",
    "        final_inputs = numpy.dot(self.who, hidden_outputs)\n",
    "        # sigmoid function on final_input\n",
    "        final_outputs = self.activation_function(final_inputs)\n",
    "        \n",
    "        #error is the (target - actual) hidden -> output\n",
    "        output_errors = targets - final_outputs\n",
    "        \n",
    "        #hidden layer error is the output_errors, split by weights, recombined at hidden nodes\n",
    "        #input -> hidden\n",
    "        hidden_errors = numpy.dot(self.who.T, output_errors)\n",
    "        \n",
    "        # update the weights for the links between the hidden and output layers\n",
    "        self.who += self.lr * numpy.dot((output_errors * final_outputs * (1.0 - final_outputs)), numpy.transpose(hidden_outputs))\n",
    "        # update the weights for the links between the input and hidden layers\n",
    "        self.wih += self.lr * numpy.dot((hidden_errors * hidden_outputs * (1.0 - hidden_outputs)), numpy.transpose(inputs))\n",
    "        \n",
    "        pass\n",
    "    \n",
    "\n",
    "    # query the neural network\n",
    "    def query (self, inputs_list):\n",
    "        #convert inputs list to 2d array\n",
    "        inputs = numpy.array(inputs_list, ndmin=2).T\n",
    "        \n",
    "        # wih*input= X_hidden\n",
    "        hidden_inputs = numpy.dot(self.wih, inputs)\n",
    "        #calculate the signals emerging from hidden layer\n",
    "        hidden_outputs = self.activation_function(hidden_inputs)\n",
    "        \n",
    "        #who*hidden = Final\n",
    "        final_inputs = numpy.dot(self.who, hidden_outputs)\n",
    "        # sigmoid function on final_input\n",
    "        final_outputs = self.activation_function(final_inputs)\n",
    "        \n",
    "        return final_outputs\n",
    "    \n",
    "    #backquery the neural network\n",
    "    #same terminology\n",
    "    \n",
    "    def backquery(self, targets_list):\n",
    "        # transpose the targets list to vertical array\n",
    "        final_outputs = numpy.array(targets_list, ndmin=2).T\n",
    "        \n",
    "        #calculate the signal into the final output layer\n",
    "        final_inputs = self.inverse_activation_function(final_outputs)\n",
    "        \n",
    "        #calc signal out of hiddenlayer\n",
    "        hidden_outputs = numpy.dot(self.who.T, final_outputs)\n",
    "        #scale them back to 0.01 to 0.99\n",
    "        #min->0.0\n",
    "        hidden_outputs -= numpy.min(hidden_outputs)\n",
    "        #max->1.0\n",
    "        hidden_outputs /= numpy.max(hidden_outputs)\n",
    "        #max->0.98\n",
    "        hidden_outputs *= 0.98\n",
    "        #max->0.99 , min->0.01\n",
    "        hidden_outputs += 0.01\n",
    "        \n",
    "        # calculate the signal into the hidden layer\n",
    "        hidden_inputs = self.inverse_activation_function(hidden_outputs)\n",
    "        \n",
    "        # calculate the signal out of the input layer\n",
    "        inputs = numpy.dot(self.wih.T, hidden_inputs)\n",
    "        # scale them back to 0.01 to .99\n",
    "        inputs -= numpy.min(inputs)\n",
    "        inputs /= numpy.max(inputs)\n",
    "        inputs *= 0.98\n",
    "        inputs += 0.01\n",
    "        \n",
    "        return inputs\n",
    "        \n",
    "        \n",
    "\n"
   ]
  },
  {
   "cell_type": "code",
   "execution_count": 3,
   "metadata": {},
   "outputs": [],
   "source": [
    "#number of input, hidden, output nodes\n",
    "input_nodes = 784\n",
    "hidden_nodes = 200\n",
    "output_nodes = 10\n",
    "\n",
    "#set learning rate\n",
    "learning_rate= 0.01\n",
    "\n",
    "#create instacnce of  neural network\n",
    "n = neuralNetwork(input_nodes,hidden_nodes,output_nodes,learning_rate)\n"
   ]
  },
  {
   "cell_type": "code",
   "execution_count": 4,
   "metadata": {},
   "outputs": [
    {
     "name": "stdout",
     "output_type": "stream",
     "text": [
      "who (10, 200)\n",
      "pass\n",
      "wih (200, 784)\n",
      "pass\n"
     ]
    }
   ],
   "source": [
    "#load who;wih\n",
    "#\n",
    "#who\n",
    "who_load = numpy.loadtxt('who_NN_1.out',delimiter=',')\n",
    "n.who = who_load\n",
    "print(\"who \"+ str(numpy.shape(n.who)))\n",
    "if ((numpy.shape(n.who)[0] == output_nodes) and (numpy.shape(n.who)[1] == hidden_nodes) ):\n",
    "    print(\"pass\")\n",
    "else :\n",
    "    print('fail')\n",
    "\n",
    "#wih\n",
    "wih_load = numpy.loadtxt('wih_NN_1.out',delimiter=',')\n",
    "n.wih = wih_load\n",
    "print(\"wih \"+ str(numpy.shape(n.wih)))\n",
    "if ((numpy.shape(n.wih)[0] == hidden_nodes) and (numpy.shape(n.wih)[1] == input_nodes) ):\n",
    "    print(\"pass\")\n",
    "else :\n",
    "    print('fail')"
   ]
  },
  {
   "cell_type": "code",
   "execution_count": 6,
   "metadata": {},
   "outputs": [],
   "source": [
    "#open  train file\n",
    "training_data_file = open(\"mnist_dataset/emnist-digits-train.csv\")\n",
    "#training_data_file = open(\"mnist_dataset/emnist-digits-train.csv, \"r\")\n",
    "training_data_list= training_data_file.readlines()\n",
    "training_data_list= training_data_list[1:]\n",
    "training_data_file.close()"
   ]
  },
  {
   "cell_type": "code",
   "execution_count": 7,
   "metadata": {},
   "outputs": [
    {
     "name": "stdout",
     "output_type": "stream",
     "text": [
      "Start: 26.02.2020 10:41:45\n",
      "26.02.2020 10:48:29\n"
     ]
    }
   ],
   "source": [
    "# train neural network\n",
    "\n",
    "# epoch is the number times the training data set is used for training\n",
    "epochs = 1\n",
    "\n",
    "print(\"Start: \" + time.strftime(\"%d.%m.%Y %H:%M:%S\"))\n",
    "for e in range(epochs):\n",
    "    #go through all records in training set\n",
    "    for record in training_data_list:\n",
    "        #data split by comma \n",
    "        all_values = record.split(',')\n",
    "        #scale and shift the inputs\n",
    "        inputs = (numpy.asfarray(all_values[1:])/255.0 * 0.99)+ 0.01\n",
    "        # create the target output values (all 0.01, except the desired label wich is 0.99)\n",
    "        targets = numpy.zeros(output_nodes) + 0.01\n",
    "        #all_values[0] is the target label for this record\n",
    "        targets[int(all_values[0])] = 0.99\n",
    "        #train\n",
    "        n.train(inputs,targets)\n",
    "        \n",
    "        ## create rotated variations\n",
    "        # rotated anticlockwise by x degrees\n",
    "#        inputs_plusx_img = scipy.ndimage.interpolation.rotate(inputs.reshape(28,28), numpy.random.randint(1,10), cval=0.01, order=1, reshape=False)\n",
    "#        n.train(inputs_plusx_img.reshape(784), targets)\n",
    "        # rotated clockwise by x degrees\n",
    "#        inputs_minusx_img = scipy.ndimage.interpolation.rotate(inputs.reshape(28,28), -1 * numpy.random.randint(1,10), cval=0.01, order=1, reshape=False)\n",
    "#        n.train(inputs_minusx_img.reshape(784), targets)\n",
    "                \n",
    "        pass\n",
    "    print(time.strftime(\"%d.%m.%Y %H:%M:%S\"))\n",
    "    pass\n",
    "\n"
   ]
  },
  {
   "cell_type": "code",
   "execution_count": 8,
   "metadata": {},
   "outputs": [],
   "source": [
    "#open  test file\n",
    "#test_data_file = open(\"mnist_dataset/emnist-digits-test.csv\", \"r\")\n",
    "test_data_file = open(\"mnist_dataset/mnist_test.csv\", \"r\")\n",
    "test_data_list= test_data_file.readlines()\n",
    "test_data_file.close()"
   ]
  },
  {
   "cell_type": "code",
   "execution_count": 9,
   "metadata": {},
   "outputs": [],
   "source": [
    "# test the neural network\n",
    "\n",
    "#scorecard for how well the network performs\n",
    "scorecard = []\n",
    "\n",
    "#go through all the records in the test data set\n",
    "for record in test_data_list:\n",
    "    #split by ','\n",
    "    all_values = record.split(',')\n",
    "    # correct answer is first value\n",
    "    correct_label = int(all_values[0])\n",
    "    #print(correct_label, \"correct label\")\n",
    "    # scale and shift the inputs\n",
    "    inputs = (numpy.asfarray(all_values[1:])/255.0 * 0.99)+ 0.01\n",
    "    # query the network\n",
    "    outputs = n.query(inputs)\n",
    "    # the index of the highest value corresponds to the label\n",
    "    label = numpy.argmax(outputs)\n",
    "    #print(label, \"network's answer\")\n",
    "    # append correct or incorrect to the list\n",
    "    if (label == correct_label):\n",
    "        #network's answer matches correct answer, add 1 to scorecard\n",
    "        scorecard.append(1)\n",
    "    else:\n",
    "        #answer doesn't match, add 0\n",
    "        scorecard.append(0)\n",
    "        pass\n",
    "    pass"
   ]
  },
  {
   "cell_type": "code",
   "execution_count": 21,
   "metadata": {},
   "outputs": [
    {
     "name": "stdout",
     "output_type": "stream",
     "text": [
      "performance =  0.2863\n"
     ]
    }
   ],
   "source": [
    "#calculate the performance score\n",
    "scorecard_array = numpy.asarray(scorecard)\n",
    "performance =  scorecard_array.sum() / scorecard_array.size\n",
    "print(\"performance = \", performance)"
   ]
  },
  {
   "cell_type": "code",
   "execution_count": 11,
   "metadata": {},
   "outputs": [],
   "source": [
    "#save who;wih \n",
    "\n",
    "\n",
    "numpy.savetxt('who_NN_1.out', n.who, delimiter=',')\n",
    "numpy.savetxt('wih_NN_1.out', n.wih, delimiter=',')"
   ]
  },
  {
   "cell_type": "code",
   "execution_count": 28,
   "metadata": {},
   "outputs": [
    {
     "data": {
      "image/png": "[encoded data removed]",
      "text/plain": [
       "<Figure size 432x288 with 10 Axes>"
      ]
     },
     "metadata": {},
     "output_type": "display_data"
    }
   ],
   "source": [
    "#run the network backwards for each label\n",
    "\n",
    "def lable_draw(input_lable):\n",
    "    # create the output signals for this label\n",
    "    targets = numpy.zeros(output_nodes) + 0.01\n",
    "    # all_values[0] is the target label for this record\n",
    "    targets[input_lable] = 0.99\n",
    "    \n",
    "    # get image data\n",
    "    image_data = n.backquery(targets)\n",
    "    \n",
    "    # reshape\n",
    "    reshape = image_data.reshape(28,28)\n",
    "    \n",
    "    return reshape\n",
    "   \n",
    "    \n",
    "\n",
    "\n",
    "for e in range(10):\n",
    "\n",
    "    matplotlib.pyplot.subplot(2,5,e+1)\n",
    "    matplotlib.pyplot.title(str(e))\n",
    "    matplotlib.pyplot.xticks([])\n",
    "    matplotlib.pyplot.yticks([])\n",
    "    matplotlib.pyplot.imshow(lable_draw(e), cmap='Greys', interpolation='None')\n",
    "    \n",
    "   \n",
    "    pass\n",
    "\n",
    "\n",
    "\n",
    "matplotlib.pyplot.tight_layout(pad=0.1, w_pad=0.1, h_pad=0.1)\n",
    "#save image file all-performance-date_time.png\n",
    "matplotlib.pyplot.savefig(str('bq/all-')+str(int(round(performance*100,0)))+str(time.strftime(\"-%d_%m_%Y_%H_%M_%S\"))+str('.png'), dpi = 900)       \n",
    "    \n",
    "\n",
    "\n",
    "\n",
    "\n",
    "\n"
   ]
  },
  {
   "cell_type": "code",
   "execution_count": 13,
   "metadata": {},
   "outputs": [
    {
     "name": "stdout",
     "output_type": "stream",
     "text": [
      "[0.01 0.01 0.01 0.01 0.01 0.01 0.01 0.01 0.99 0.01]\n"
     ]
    },
    {
     "data": {
      "text/plain": [
       "<matplotlib.image.AxesImage at 0x1b117ba3668>"
      ]
     },
     "execution_count": 13,
     "metadata": {},
     "output_type": "execute_result"
    },
    {
     "data": {
      "image/png": "[encoded data removed]",
      "text/plain": [
       "<Figure size 432x288 with 1 Axes>"
      ]
     },
     "metadata": {},
     "output_type": "display_data"
    }
   ],
   "source": [
    "# run the network backwards, given a label, see what image it produces\n",
    "\n",
    "# label to test\n",
    "label = 8\n",
    "# create the output signals for this label\n",
    "targets = numpy.zeros(output_nodes) + 0.01\n",
    "# all_values[0] is the target label for this record\n",
    "targets[label] = 0.99\n",
    "print(targets)\n",
    "\n",
    "# get image data\n",
    "image_data = n.backquery(targets)\n",
    "\n",
    "# plot image data\n",
    "matplotlib.pyplot.imshow(image_data.reshape(28,28), cmap='Greys', interpolation='None')"
   ]
  },
  {
   "cell_type": "code",
   "execution_count": null,
   "metadata": {
    "collapsed": true,
    "jupyter": {
     "outputs_hidden": true
    }
   },
   "outputs": [],
   "source": []
  }
 ],
 "metadata": {
  "kernelspec": {
   "display_name": "Python 3",
   "language": "python",
   "name": "python3"
  },
  "language_info": {
   "codemirror_mode": {
    "name": "ipython",
    "version": 3
   },
   "file_extension": ".py",
   "mimetype": "text/x-python",
   "name": "python",
   "nbconvert_exporter": "python",
   "pygments_lexer": "ipython3",
   "version": "3.6.6"
  }
 },
 "nbformat": 4,
 "nbformat_minor": 4
}
