{
 "cells": [
  {
   "cell_type": "code",
   "execution_count": 1,
   "metadata": {},
   "outputs": [],
   "source": [
    "#import numpy\n",
    "import numpy\n",
    "#import for sigmoid\n",
    "import scipy.special\n",
    "#import lib for plotting\n",
    "import matplotlib.pyplot\n",
    "#import ensure the plots are inside this notebokk, not an external window\n",
    "%matplotlib inline\n",
    "\n",
    "# neural network class\n",
    "class neuralNetwork:\n",
    "\n",
    "    # initialise the neural network\n",
    "    def __init__(self, inputnodes, hiddennodes, outputnodes, learningrate):\n",
    "        # set number of nodes in each input-, hidden-, output layer\n",
    "        self.inodes = inputnodes\n",
    "        self.hnodes = hiddennodes\n",
    "        self.onodes = outputnodes\n",
    "        \n",
    "        #link weight matrices w_input_hidden-> wih; w_hidden_output -> who\n",
    "        self.wih = numpy.random.normal(0.0, pow(self.hnodes, -0.5),(self.hnodes,self.inodes))\n",
    "        self.who = numpy.random.normal(0.0, pow(self.onodes, -0.5),(self.onodes,self.hnodes))\n",
    "\n",
    "        #activation function is the sigmoid function\n",
    "        self.activation_function = lambda x: scipy.special.expit(x)\n",
    "    \n",
    "        #learning rate\n",
    "        self.lr = learningrate\n",
    "        pass\n",
    "    \n",
    "    \n",
    "    # train the neural network\n",
    "    def train (self, inputs_list, targets_list):\n",
    "        # convert inputs list to 2d array\n",
    "        inputs = numpy.array(inputs_list, ndmin=2).T\n",
    "        targets = numpy.array(targets_list, ndmin=2).T\n",
    "        \n",
    "        # wih*input= X_hidden\n",
    "        hidden_inputs = numpy.dot(self.wih, inputs)\n",
    "        #calculate the signals emerging from hidden layer\n",
    "        hidden_outputs = self.activation_function(hidden_inputs)\n",
    "        #who*hidden = Final\n",
    "        final_inputs = numpy.dot(self.who, hidden_outputs)\n",
    "        # sigmoid function on final_input\n",
    "        final_outputs = self.activation_function(final_inputs)\n",
    "        \n",
    "        #error is the (target - actual) hidden -> output\n",
    "        output_errors = targets - final_outputs\n",
    "        \n",
    "        #hidden layer error is the output_errors, split by weights, recombined at hidden nodes\n",
    "        #input -> hidden\n",
    "        hidden_errors = numpy.dot(self.who.T, output_errors)\n",
    "        \n",
    "        # update the weights for the links between the hidden and output layers\n",
    "        self.who += self.lr * numpy.dot((output_errors * final_outputs * (1.0 - final_outputs)), numpy.transpose(hidden_outputs))\n",
    "        # update the weights for the links between the input and hidden layers\n",
    "        self.wih += self.lr * numpy.dot((hidden_errors * hidden_outputs * (1.0 - hidden_outputs)), numpy.transpose(inputs))\n",
    "        \n",
    "        pass\n",
    "    \n",
    "\n",
    "    # query the neural network\n",
    "    def query (self, inputs_list):\n",
    "        #convert inputs list to 2d array\n",
    "        inputs = numpy.array(inputs_list, ndmin=2).T\n",
    "        \n",
    "        # wih*input= X_hidden\n",
    "        hidden_inputs = numpy.dot(self.wih, inputs)\n",
    "        #calculate the signals emerging from hidden layer\n",
    "        hidden_outputs = self.activation_function(hidden_inputs)\n",
    "        \n",
    "        #who*hidden = Final\n",
    "        final_inputs = numpy.dot(self.who, hidden_outputs)\n",
    "        # sigmoid function on final_input\n",
    "        final_outputs = self.activation_function(final_inputs)\n",
    "        \n",
    "        return final_outputs\n",
    "        \n",
    "        \n",
    "\n"
   ]
  },
  {
   "cell_type": "code",
   "execution_count": 2,
   "metadata": {},
   "outputs": [],
   "source": [
    "#number of input, hidden, output nodes\n",
    "input_nodes = 784\n",
    "hidden_nodes = 200\n",
    "output_nodes = 10\n",
    "\n",
    "#set learning rate\n",
    "learning_rate= 0.15\n",
    "\n",
    "#create instacnce of  neural network\n",
    "n = neuralNetwork(input_nodes,hidden_nodes,output_nodes,learning_rate)\n"
   ]
  },
  {
   "cell_type": "code",
   "execution_count": 3,
   "metadata": {},
   "outputs": [],
   "source": [
    "#open  train file\n",
    "training_data_file = open(\"mnist_dataset/mnist_train.csv\", \"r\")\n",
    "training_data_list= training_data_file.readlines()\n",
    "training_data_file.close()\n",
    "\n",
    "#open  test file\n",
    "test_data_file = open(\"mnist_dataset/mnist_test.csv\", \"r\")\n",
    "test_data_list= test_data_file.readlines()\n",
    "test_data_file.close()"
   ]
  },
  {
   "cell_type": "code",
   "execution_count": 5,
   "metadata": {},
   "outputs": [
    {
     "name": "stdout",
     "output_type": "stream",
     "text": [
      "24.02.2020 11:17:59\n",
      "Epoch Score Date Time\n",
      "1 0.9694 24.02.2020 11:19:26\n",
      "2 0.97015 24.02.2020 11:20:56\n"
     ]
    }
   ],
   "source": [
    "import time\n",
    "import matplotlib.pyplot\n",
    "%matplotlib inline\n",
    "\n",
    "# print current date and time\n",
    "print(time.strftime(\"%d.%m.%Y %H:%M:%S\"))\n",
    "print(\"Epoch\",\"Score\",\"Date\",\"Time\")\n",
    "\n",
    "# train & test neural network for each epoch\n",
    "\n",
    "# epoch is the number times the training data set is used for training\n",
    "epochs = 2\n",
    "\n",
    "#scorecard for how well the network performs\n",
    "scorecard = []\n",
    "\n",
    "# epoch count init\n",
    "count_epochs = 0\n",
    "\n",
    "for e in range(epochs):\n",
    "    \n",
    "    # train neural network\n",
    "    #go through all records in training set\n",
    "    for record in training_data_list:\n",
    "        #data split by comma \n",
    "        all_values = record.split(',')\n",
    "        #scale and shift the inputs\n",
    "        inputs = (numpy.asfarray(all_values[1:])/255.0 * 0.99)+ 0.01\n",
    "        # create the target output values (all 0.01, except the desired label wich is 0.99)\n",
    "        targets = numpy.zeros(output_nodes) + 0.01\n",
    "        #all_values[0] is the target label for this record\n",
    "        targets[int(all_values[0])] = 0.99\n",
    "        #train\n",
    "        n.train(inputs,targets)\n",
    "        pass\n",
    "    \n",
    "    #test neural network\n",
    "    #go through all the records in the test data set\n",
    "    for record in test_data_list:\n",
    "        #split by ','\n",
    "        all_values_test = record.split(',')\n",
    "        # correct answer is first value\n",
    "        correct_label = int(all_values_test[0])\n",
    "        #print(correct_label, \"correct label\")\n",
    "        # scale and shift the inputs\n",
    "        inputs = (numpy.asfarray(all_values_test[1:])/255.0 * 0.99)+ 0.01\n",
    "        # query the network\n",
    "        outputs = n.query(inputs)\n",
    "        # the index of the highest value corresponds to the label\n",
    "        label = numpy.argmax(outputs)\n",
    "        #print(label, \"network's answer\")\n",
    "        # append correct or incorrect to the list\n",
    "        if (label == correct_label):\n",
    "            #network's answer matches correct answer, add 1 to scorecard\n",
    "            scorecard.append(1)\n",
    "        else:\n",
    "            #answer doesn't match, add 0\n",
    "            scorecard.append(0)\n",
    "            pass\n",
    "        pass\n",
    "    #epoch count\n",
    "    count_epochs +=1\n",
    "    \n",
    "    #calculate the performance score\n",
    "    scorecard_array = numpy.asarray(scorecard)\n",
    "    print(count_epochs, scorecard_array.sum() / scorecard_array.size,(time.strftime(\"%d.%m.%Y %H:%M:%S\")))\n",
    "    \n",
    "    #print who in txt\n",
    "    numpy.savetxt('who_'+str(count_epochs)+'.txt', n.who, delimiter=',')\n",
    "    \n",
    "        \n",
    "    \n",
    "    pass\n",
    "\n"
   ]
  },
  {
   "cell_type": "code",
   "execution_count": 6,
   "metadata": {
    "collapsed": true
   },
   "outputs": [],
   "source": [
    "import matplotlib.pyplot\n",
    "%matplotlib inline"
   ]
  },
  {
   "cell_type": "code",
   "execution_count": 7,
   "metadata": {},
   "outputs": [
    {
     "data": {
      "image/png": "[encoded data removed]",
      "text/plain": [
       "<matplotlib.figure.Figure at 0x16addc590f0>"
      ]
     },
     "metadata": {},
     "output_type": "display_data"
    }
   ],
   "source": [
    "#normalize who\n",
    "who_max = numpy.amax(n.who)\n",
    "who_min = numpy.amin(n.who)\n",
    "who_sum = (who_max**2)**(0.5)+(who_min**2)**(0.5)\n",
    "epoch_c=1\n",
    "who_a = n.who + (who_min**2)**(0.5)\n",
    "scale_who = (who_a/who_sum * 0.99)+ 0.01\n",
    "\n",
    "#print who\n",
    "image_array = numpy.asfarray(scale_who).reshape((output_nodes,hidden_nodes))\n",
    "#export image                             \n",
    "matplotlib.pyplot.imshow(image_array, cmap='Greys', interpolation='None')\n",
    "#save image\n",
    "matplotlib.pyplot.savefig('who_'+str(epoch_c)+'.png', dpi = 1200)"
   ]
  },
  {
   "cell_type": "code",
   "execution_count": 96,
   "metadata": {},
   "outputs": [
    {
     "data": {
      "image/png": "[encoded data removed]",
      "text/plain": [
       "<matplotlib.figure.Figure at 0x1bbb51227f0>"
      ]
     },
     "metadata": {},
     "output_type": "display_data"
    }
   ],
   "source": [
    "#normalize wih\n",
    "wih_max = numpy.amax(n.wih)\n",
    "wih_min = numpy.amin(n.wih)\n",
    "wih_sum = (wih_max**2)**(0.5)+(wih_min**2)**(0.5)\n",
    "\n",
    "wih_a = n.wih + (wih_min**2)**(0.5)\n",
    "scale_wih = (wih_a/wih_sum * 0.99)+ 0.01\n",
    "\n",
    "#print who\n",
    "image_array = numpy.asfarray(scale_wih).reshape((input_nodes,hidden_nodes))\n",
    "#export image                             \n",
    "matplotlib.pyplot.imshow(image_array, cmap='Greys', interpolation='None')\n",
    "#save image\n",
    "matplotlib.pyplot.savefig('wih.png', dpi = 2400)"
   ]
  },
  {
   "cell_type": "code",
   "execution_count": null,
   "metadata": {
    "collapsed": true
   },
   "outputs": [],
   "source": []
  },
  {
   "cell_type": "code",
   "execution_count": null,
   "metadata": {
    "collapsed": true
   },
   "outputs": [],
   "source": []
  },
  {
   "cell_type": "code",
   "execution_count": null,
   "metadata": {
    "collapsed": true
   },
   "outputs": [],
   "source": []
  }
 ],
 "metadata": {
  "kernelspec": {
   "display_name": "Python 3",
   "language": "python",
   "name": "python3"
  },
  "language_info": {
   "codemirror_mode": {
    "name": "ipython",
    "version": 3
   },
   "file_extension": ".py",
   "mimetype": "text/x-python",
   "name": "python",
   "nbconvert_exporter": "python",
   "pygments_lexer": "ipython3",
   "version": "3.6.6"
  },
  "widgets": {
   "application/vnd.jupyter.widget-state+json": {
    "state": {},
    "version_major": 2,
    "version_minor": 0
   }
  }
 },
 "nbformat": 4,
 "nbformat_minor": 2
}
